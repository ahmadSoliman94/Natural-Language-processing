{
 "cells": [
  {
   "attachments": {},
   "cell_type": "markdown",
   "metadata": {},
   "source": [
    "[Annotation Specifications](https://v2.spacy.io/api/annotation)"
   ]
  },
  {
   "cell_type": "code",
   "execution_count": 5,
   "metadata": {},
   "outputs": [
    {
     "name": "stdout",
     "output_type": "stream",
     "text": [
      "Requirement already satisfied: spacy in c:\\users\\ahmad\\anaconda3\\lib\\site-packages (3.5.1)\n",
      "Requirement already satisfied: spacy-legacy<3.1.0,>=3.0.11 in c:\\users\\ahmad\\anaconda3\\lib\\site-packages (from spacy) (3.0.12)\n",
      "Requirement already satisfied: numpy>=1.15.0 in c:\\users\\ahmad\\anaconda3\\lib\\site-packages (from spacy) (1.21.5)\n",
      "Requirement already satisfied: spacy-loggers<2.0.0,>=1.0.0 in c:\\users\\ahmad\\anaconda3\\lib\\site-packages (from spacy) (1.0.4)\n",
      "Requirement already satisfied: pathy>=0.10.0 in c:\\users\\ahmad\\anaconda3\\lib\\site-packages (from spacy) (0.10.1)\n",
      "Requirement already satisfied: smart-open<7.0.0,>=5.2.1 in c:\\users\\ahmad\\anaconda3\\lib\\site-packages (from spacy) (5.2.1)\n",
      "Requirement already satisfied: setuptools in c:\\users\\ahmad\\anaconda3\\lib\\site-packages (from spacy) (63.4.1)\n",
      "Requirement already satisfied: packaging>=20.0 in c:\\users\\ahmad\\anaconda3\\lib\\site-packages (from spacy) (21.3)\n",
      "Requirement already satisfied: wasabi<1.2.0,>=0.9.1 in c:\\users\\ahmad\\anaconda3\\lib\\site-packages (from spacy) (1.1.1)\n",
      "Requirement already satisfied: cymem<2.1.0,>=2.0.2 in c:\\users\\ahmad\\anaconda3\\lib\\site-packages (from spacy) (2.0.7)\n",
      "Requirement already satisfied: tqdm<5.0.0,>=4.38.0 in c:\\users\\ahmad\\anaconda3\\lib\\site-packages (from spacy) (4.64.1)\n",
      "Requirement already satisfied: preshed<3.1.0,>=3.0.2 in c:\\users\\ahmad\\anaconda3\\lib\\site-packages (from spacy) (3.0.8)\n",
      "Requirement already satisfied: thinc<8.2.0,>=8.1.8 in c:\\users\\ahmad\\anaconda3\\lib\\site-packages (from spacy) (8.1.9)\n",
      "Requirement already satisfied: jinja2 in c:\\users\\ahmad\\anaconda3\\lib\\site-packages (from spacy) (2.11.3)\n",
      "Requirement already satisfied: srsly<3.0.0,>=2.4.3 in c:\\users\\ahmad\\anaconda3\\lib\\site-packages (from spacy) (2.4.6)\n",
      "Requirement already satisfied: pydantic!=1.8,!=1.8.1,<1.11.0,>=1.7.4 in c:\\users\\ahmad\\anaconda3\\lib\\site-packages (from spacy) (1.10.7)\n",
      "Requirement already satisfied: typer<0.8.0,>=0.3.0 in c:\\users\\ahmad\\anaconda3\\lib\\site-packages (from spacy) (0.7.0)\n",
      "Requirement already satisfied: requests<3.0.0,>=2.13.0 in c:\\users\\ahmad\\anaconda3\\lib\\site-packages (from spacy) (2.28.1)\n",
      "Requirement already satisfied: murmurhash<1.1.0,>=0.28.0 in c:\\users\\ahmad\\anaconda3\\lib\\site-packages (from spacy) (1.0.9)\n",
      "Requirement already satisfied: catalogue<2.1.0,>=2.0.6 in c:\\users\\ahmad\\anaconda3\\lib\\site-packages (from spacy) (2.0.8)\n",
      "Requirement already satisfied: langcodes<4.0.0,>=3.2.0 in c:\\users\\ahmad\\anaconda3\\lib\\site-packages (from spacy) (3.3.0)\n",
      "Requirement already satisfied: pyparsing!=3.0.5,>=2.0.2 in c:\\users\\ahmad\\anaconda3\\lib\\site-packages (from packaging>=20.0->spacy) (3.0.9)\n",
      "Requirement already satisfied: typing-extensions>=4.2.0 in c:\\users\\ahmad\\anaconda3\\lib\\site-packages (from pydantic!=1.8,!=1.8.1,<1.11.0,>=1.7.4->spacy) (4.3.0)\n",
      "Requirement already satisfied: idna<4,>=2.5 in c:\\users\\ahmad\\anaconda3\\lib\\site-packages (from requests<3.0.0,>=2.13.0->spacy) (3.3)\n",
      "Requirement already satisfied: certifi>=2017.4.17 in c:\\users\\ahmad\\anaconda3\\lib\\site-packages (from requests<3.0.0,>=2.13.0->spacy) (2022.9.14)\n",
      "Requirement already satisfied: urllib3<1.27,>=1.21.1 in c:\\users\\ahmad\\anaconda3\\lib\\site-packages (from requests<3.0.0,>=2.13.0->spacy) (1.26.11)\n",
      "Requirement already satisfied: charset-normalizer<3,>=2 in c:\\users\\ahmad\\anaconda3\\lib\\site-packages (from requests<3.0.0,>=2.13.0->spacy) (2.0.4)\n",
      "Requirement already satisfied: blis<0.8.0,>=0.7.8 in c:\\users\\ahmad\\anaconda3\\lib\\site-packages (from thinc<8.2.0,>=8.1.8->spacy) (0.7.9)\n",
      "Requirement already satisfied: confection<1.0.0,>=0.0.1 in c:\\users\\ahmad\\anaconda3\\lib\\site-packages (from thinc<8.2.0,>=8.1.8->spacy) (0.0.4)\n",
      "Requirement already satisfied: colorama in c:\\users\\ahmad\\anaconda3\\lib\\site-packages (from tqdm<5.0.0,>=4.38.0->spacy) (0.4.6)\n",
      "Requirement already satisfied: click<9.0.0,>=7.1.1 in c:\\users\\ahmad\\anaconda3\\lib\\site-packages (from typer<0.8.0,>=0.3.0->spacy) (8.0.4)\n",
      "Requirement already satisfied: MarkupSafe>=0.23 in c:\\users\\ahmad\\anaconda3\\lib\\site-packages (from jinja2->spacy) (2.0.1)\n"
     ]
    }
   ],
   "source": [
    "# pip install spacy"
   ]
  },
  {
   "cell_type": "code",
   "execution_count": 8,
   "metadata": {},
   "outputs": [],
   "source": [
    "import spacy\n",
    "#!python -m spacy download en_core_web_sm"
   ]
  },
  {
   "cell_type": "code",
   "execution_count": 7,
   "metadata": {},
   "outputs": [
    {
     "name": "stdout",
     "output_type": "stream",
     "text": [
      "Elon  |  PROPN  |  proper noun\n",
      "flew  |  VERB  |  verb\n",
      "to  |  ADP  |  adposition\n",
      "mars  |  NOUN  |  noun\n",
      "yesterday  |  NOUN  |  noun\n",
      ".  |  PUNCT  |  punctuation\n",
      "He  |  PRON  |  pronoun\n",
      "carried  |  VERB  |  verb\n",
      "biryani  |  ADJ  |  adjective\n",
      "masala  |  NOUN  |  noun\n",
      "with  |  ADP  |  adposition\n",
      "him  |  PRON  |  pronoun\n"
     ]
    }
   ],
   "source": [
    "nlp = spacy.load(\"en_core_web_sm\")\n",
    "doc = nlp(\"Elon flew to mars yesterday. He carried biryani masala with him\")\n",
    "\n",
    "for token in doc:\n",
    "    print(token,\" | \", token.pos_, \" | \", spacy.explain(token.pos_))"
   ]
  },
  {
   "cell_type": "code",
   "execution_count": 9,
   "metadata": {},
   "outputs": [
    {
     "name": "stdout",
     "output_type": "stream",
     "text": [
      "Wow  |  INTJ  |  interjection\n",
      "!  |  PUNCT  |  punctuation\n",
      "Dr.  |  PROPN  |  proper noun\n",
      "Strange  |  PROPN  |  proper noun\n",
      "made  |  VERB  |  verb\n",
      "265  |  NUM  |  numeral\n",
      "million  |  NUM  |  numeral\n",
      "$  |  NUM  |  numeral\n",
      "on  |  ADP  |  adposition\n",
      "the  |  DET  |  determiner\n",
      "very  |  ADV  |  adverb\n",
      "first  |  ADJ  |  adjective\n",
      "day  |  NOUN  |  noun\n"
     ]
    }
   ],
   "source": [
    "doc = nlp(\"Wow! Dr. Strange made 265 million $ on the very first day\")\n",
    "\n",
    "for token in doc:\n",
    "    print(token,\" | \", token.pos_, \" | \", spacy.explain(token.pos_))"
   ]
  },
  {
   "cell_type": "code",
   "execution_count": 11,
   "metadata": {},
   "outputs": [
    {
     "name": "stdout",
     "output_type": "stream",
     "text": [
      "Wow  |  INTJ  |  interjection  |  UH  |  interjection\n",
      "!  |  PUNCT  |  punctuation  |  .  |  punctuation mark, sentence closer\n",
      "Dr.  |  PROPN  |  proper noun  |  NNP  |  noun, proper singular\n",
      "Strange  |  PROPN  |  proper noun  |  NNP  |  noun, proper singular\n",
      "made  |  VERB  |  verb  |  VBD  |  verb, past tense\n",
      "265  |  NUM  |  numeral  |  CD  |  cardinal number\n",
      "million  |  NUM  |  numeral  |  CD  |  cardinal number\n",
      "$  |  NUM  |  numeral  |  CD  |  cardinal number\n",
      "on  |  ADP  |  adposition  |  IN  |  conjunction, subordinating or preposition\n",
      "the  |  DET  |  determiner  |  DT  |  determiner\n",
      "very  |  ADV  |  adverb  |  RB  |  adverb\n",
      "first  |  ADJ  |  adjective  |  JJ  |  adjective (English), other noun-modifier (Chinese)\n",
      "day  |  NOUN  |  noun  |  NN  |  noun, singular or mass\n"
     ]
    }
   ],
   "source": [
    "doc = nlp(\"Wow! Dr. Strange made 265 million $ on the very first day\")\n",
    "\n",
    "for token in doc:\n",
    "    print(token,\" | \", token.pos_, \" | \", spacy.explain(token.pos_), \" | \", token.tag_, \" | \", spacy.explain(token.tag_)) # .tag_ : to show the typ of verb\n"
   ]
  },
  {
   "attachments": {},
   "cell_type": "markdown",
   "metadata": {},
   "source": [
    "### In below sentences Spacy figures out the past vs present tense for __quit__"
   ]
  },
  {
   "cell_type": "code",
   "execution_count": 12,
   "metadata": {},
   "outputs": [
    {
     "name": "stdout",
     "output_type": "stream",
     "text": [
      "quits | VBZ | verb, 3rd person singular present\n"
     ]
    }
   ],
   "source": [
    "doc = nlp(\"He quits the job\")\n",
    "\n",
    "print(doc[1].text, \"|\", doc[1].tag_, \"|\", spacy.explain(doc[1].tag_))"
   ]
  },
  {
   "cell_type": "code",
   "execution_count": 13,
   "metadata": {},
   "outputs": [
    {
     "name": "stdout",
     "output_type": "stream",
     "text": [
      "quit | VBD | verb, past tense\n"
     ]
    }
   ],
   "source": [
    "doc = nlp(\"he quit the job\")\n",
    "\n",
    "print(doc[1].text, \"|\", doc[1].tag_, \"|\", spacy.explain(doc[1].tag_))"
   ]
  },
  {
   "attachments": {},
   "cell_type": "markdown",
   "metadata": {},
   "source": [
    "### Removing all SPACE, PUNCT and X token from text\n"
   ]
  },
  {
   "cell_type": "code",
   "execution_count": 14,
   "metadata": {},
   "outputs": [
    {
     "name": "stdout",
     "output_type": "stream",
     "text": [
      "Microsoft  |  PROPN  |  proper noun  |  NNP  |  noun, proper singular\n",
      "Corp.  |  PROPN  |  proper noun  |  NNP  |  noun, proper singular\n",
      "today  |  NOUN  |  noun  |  NN  |  noun, singular or mass\n",
      "announced  |  VERB  |  verb  |  VBD  |  verb, past tense\n",
      "the  |  DET  |  determiner  |  DT  |  determiner\n",
      "following  |  VERB  |  verb  |  VBG  |  verb, gerund or present participle\n",
      "results  |  NOUN  |  noun  |  NNS  |  noun, plural\n",
      "for  |  ADP  |  adposition  |  IN  |  conjunction, subordinating or preposition\n",
      "the  |  DET  |  determiner  |  DT  |  determiner\n",
      "quarter  |  NOUN  |  noun  |  NN  |  noun, singular or mass\n",
      "ended  |  VERB  |  verb  |  VBD  |  verb, past tense\n",
      "December  |  PROPN  |  proper noun  |  NNP  |  noun, proper singular\n",
      "31  |  NUM  |  numeral  |  CD  |  cardinal number\n",
      ",  |  PUNCT  |  punctuation  |  ,  |  punctuation mark, comma\n",
      "2021  |  NUM  |  numeral  |  CD  |  cardinal number\n",
      ",  |  PUNCT  |  punctuation  |  ,  |  punctuation mark, comma\n",
      "as  |  SCONJ  |  subordinating conjunction  |  IN  |  conjunction, subordinating or preposition\n",
      "compared  |  VERB  |  verb  |  VBN  |  verb, past participle\n",
      "to  |  ADP  |  adposition  |  IN  |  conjunction, subordinating or preposition\n",
      "the  |  DET  |  determiner  |  DT  |  determiner\n",
      "corresponding  |  ADJ  |  adjective  |  JJ  |  adjective (English), other noun-modifier (Chinese)\n",
      "period  |  NOUN  |  noun  |  NN  |  noun, singular or mass\n",
      "of  |  ADP  |  adposition  |  IN  |  conjunction, subordinating or preposition\n",
      "last  |  ADJ  |  adjective  |  JJ  |  adjective (English), other noun-modifier (Chinese)\n",
      "fiscal  |  ADJ  |  adjective  |  JJ  |  adjective (English), other noun-modifier (Chinese)\n",
      "year  |  NOUN  |  noun  |  NN  |  noun, singular or mass\n",
      ":  |  PUNCT  |  punctuation  |  :  |  punctuation mark, colon or ellipsis\n",
      "\n",
      "\n",
      "  |  SPACE  |  space  |  _SP  |  whitespace\n",
      "·  |  PUNCT  |  punctuation  |  NFP  |  superfluous punctuation\n",
      "          |  SPACE  |  space  |  _SP  |  whitespace\n",
      "Revenue  |  NOUN  |  noun  |  NN  |  noun, singular or mass\n",
      "was  |  AUX  |  auxiliary  |  VBD  |  verb, past tense\n",
      "$  |  SYM  |  symbol  |  $  |  symbol, currency\n",
      "51.7  |  NUM  |  numeral  |  CD  |  cardinal number\n",
      "billion  |  NUM  |  numeral  |  CD  |  cardinal number\n",
      "and  |  CCONJ  |  coordinating conjunction  |  CC  |  conjunction, coordinating\n",
      "increased  |  VERB  |  verb  |  VBD  |  verb, past tense\n",
      "20  |  NUM  |  numeral  |  CD  |  cardinal number\n",
      "%  |  NOUN  |  noun  |  NN  |  noun, singular or mass\n",
      "\n",
      "  |  SPACE  |  space  |  _SP  |  whitespace\n",
      "·  |  PUNCT  |  punctuation  |  NFP  |  superfluous punctuation\n",
      "          |  SPACE  |  space  |  _SP  |  whitespace\n",
      "Operating  |  VERB  |  verb  |  VBG  |  verb, gerund or present participle\n",
      "income  |  NOUN  |  noun  |  NN  |  noun, singular or mass\n",
      "was  |  AUX  |  auxiliary  |  VBD  |  verb, past tense\n",
      "$  |  SYM  |  symbol  |  $  |  symbol, currency\n",
      "22.2  |  NUM  |  numeral  |  CD  |  cardinal number\n",
      "billion  |  NUM  |  numeral  |  CD  |  cardinal number\n",
      "and  |  CCONJ  |  coordinating conjunction  |  CC  |  conjunction, coordinating\n",
      "increased  |  VERB  |  verb  |  VBD  |  verb, past tense\n",
      "24  |  NUM  |  numeral  |  CD  |  cardinal number\n",
      "%  |  NOUN  |  noun  |  NN  |  noun, singular or mass\n",
      "\n",
      "  |  SPACE  |  space  |  _SP  |  whitespace\n",
      "·  |  PUNCT  |  punctuation  |  NFP  |  superfluous punctuation\n",
      "          |  SPACE  |  space  |  _SP  |  whitespace\n",
      "Net  |  ADJ  |  adjective  |  JJ  |  adjective (English), other noun-modifier (Chinese)\n",
      "income  |  NOUN  |  noun  |  NN  |  noun, singular or mass\n",
      "was  |  AUX  |  auxiliary  |  VBD  |  verb, past tense\n",
      "$  |  SYM  |  symbol  |  $  |  symbol, currency\n",
      "18.8  |  NUM  |  numeral  |  CD  |  cardinal number\n",
      "billion  |  NUM  |  numeral  |  CD  |  cardinal number\n",
      "and  |  CCONJ  |  coordinating conjunction  |  CC  |  conjunction, coordinating\n",
      "increased  |  VERB  |  verb  |  VBD  |  verb, past tense\n",
      "21  |  NUM  |  numeral  |  CD  |  cardinal number\n",
      "%  |  NOUN  |  noun  |  NN  |  noun, singular or mass\n",
      "\n",
      "  |  SPACE  |  space  |  _SP  |  whitespace\n",
      "·  |  PUNCT  |  punctuation  |  NFP  |  superfluous punctuation\n",
      "          |  SPACE  |  space  |  _SP  |  whitespace\n",
      "Diluted  |  VERB  |  verb  |  VBN  |  verb, past participle\n",
      "earnings  |  NOUN  |  noun  |  NNS  |  noun, plural\n",
      "per  |  ADP  |  adposition  |  IN  |  conjunction, subordinating or preposition\n",
      "share  |  NOUN  |  noun  |  NN  |  noun, singular or mass\n",
      "was  |  AUX  |  auxiliary  |  VBD  |  verb, past tense\n",
      "$  |  SYM  |  symbol  |  $  |  symbol, currency\n",
      "2.48  |  NUM  |  numeral  |  CD  |  cardinal number\n",
      "and  |  CCONJ  |  coordinating conjunction  |  CC  |  conjunction, coordinating\n",
      "increased  |  VERB  |  verb  |  VBD  |  verb, past tense\n",
      "22  |  NUM  |  numeral  |  CD  |  cardinal number\n",
      "%  |  NOUN  |  noun  |  NN  |  noun, singular or mass\n",
      "\n",
      "  |  SPACE  |  space  |  _SP  |  whitespace\n",
      "“  |  PUNCT  |  punctuation  |  ``  |  opening quotation mark\n",
      "Digital  |  PROPN  |  proper noun  |  NNP  |  noun, proper singular\n",
      "technology  |  NOUN  |  noun  |  NN  |  noun, singular or mass\n",
      "etc  |  X  |  other  |  FW  |  foreign word\n",
      ".  |  X  |  other  |  FW  |  foreign word\n",
      "is  |  AUX  |  auxiliary  |  VBZ  |  verb, 3rd person singular present\n",
      "the  |  DET  |  determiner  |  DT  |  determiner\n",
      "most  |  ADV  |  adverb  |  RBS  |  adverb, superlative\n",
      "malleable  |  ADJ  |  adjective  |  JJ  |  adjective (English), other noun-modifier (Chinese)\n",
      "resource  |  NOUN  |  noun  |  NN  |  noun, singular or mass\n",
      "at  |  ADP  |  adposition  |  IN  |  conjunction, subordinating or preposition\n",
      "the  |  DET  |  determiner  |  DT  |  determiner\n",
      "world  |  NOUN  |  noun  |  NN  |  noun, singular or mass\n",
      "’s  |  PART  |  particle  |  POS  |  possessive ending\n",
      "disposal  |  NOUN  |  noun  |  NN  |  noun, singular or mass\n",
      "to  |  PART  |  particle  |  TO  |  infinitival \"to\"\n",
      "overcome  |  VERB  |  verb  |  VB  |  verb, base form\n",
      "constraints  |  NOUN  |  noun  |  NNS  |  noun, plural\n",
      "and  |  CCONJ  |  coordinating conjunction  |  CC  |  conjunction, coordinating\n",
      "reimagine  |  VERB  |  verb  |  VB  |  verb, base form\n",
      "everyday  |  ADJ  |  adjective  |  JJ  |  adjective (English), other noun-modifier (Chinese)\n",
      "work  |  NOUN  |  noun  |  NN  |  noun, singular or mass\n",
      "and  |  CCONJ  |  coordinating conjunction  |  CC  |  conjunction, coordinating\n",
      "life  |  NOUN  |  noun  |  NN  |  noun, singular or mass\n",
      ",  |  PUNCT  |  punctuation  |  ,  |  punctuation mark, comma\n",
      "”  |  PUNCT  |  punctuation  |  ''  |  closing quotation mark\n",
      "said  |  VERB  |  verb  |  VBD  |  verb, past tense\n",
      "Satya  |  PROPN  |  proper noun  |  NNP  |  noun, proper singular\n",
      "Nadella  |  PROPN  |  proper noun  |  NNP  |  noun, proper singular\n",
      ",  |  PUNCT  |  punctuation  |  ,  |  punctuation mark, comma\n",
      "chairman  |  NOUN  |  noun  |  NN  |  noun, singular or mass\n",
      "and  |  CCONJ  |  coordinating conjunction  |  CC  |  conjunction, coordinating\n",
      "chief  |  ADJ  |  adjective  |  JJ  |  adjective (English), other noun-modifier (Chinese)\n",
      "executive  |  ADJ  |  adjective  |  JJ  |  adjective (English), other noun-modifier (Chinese)\n",
      "officer  |  NOUN  |  noun  |  NN  |  noun, singular or mass\n",
      "of  |  ADP  |  adposition  |  IN  |  conjunction, subordinating or preposition\n",
      "Microsoft  |  PROPN  |  proper noun  |  NNP  |  noun, proper singular\n",
      ".  |  PUNCT  |  punctuation  |  .  |  punctuation mark, sentence closer\n",
      "“  |  PUNCT  |  punctuation  |  ``  |  opening quotation mark\n",
      "As  |  ADV  |  adverb  |  RB  |  adverb\n",
      "tech  |  NOUN  |  noun  |  NN  |  noun, singular or mass\n",
      "as  |  ADP  |  adposition  |  IN  |  conjunction, subordinating or preposition\n",
      "a  |  DET  |  determiner  |  DT  |  determiner\n",
      "percentage  |  NOUN  |  noun  |  NN  |  noun, singular or mass\n",
      "of  |  ADP  |  adposition  |  IN  |  conjunction, subordinating or preposition\n",
      "global  |  ADJ  |  adjective  |  JJ  |  adjective (English), other noun-modifier (Chinese)\n",
      "GDP  |  PROPN  |  proper noun  |  NNP  |  noun, proper singular\n",
      "continues  |  VERB  |  verb  |  VBZ  |  verb, 3rd person singular present\n",
      "to  |  PART  |  particle  |  TO  |  infinitival \"to\"\n",
      "increase  |  VERB  |  verb  |  VB  |  verb, base form\n",
      ",  |  PUNCT  |  punctuation  |  ,  |  punctuation mark, comma\n",
      "we  |  PRON  |  pronoun  |  PRP  |  pronoun, personal\n",
      "are  |  AUX  |  auxiliary  |  VBP  |  verb, non-3rd person singular present\n",
      "innovating  |  VERB  |  verb  |  VBG  |  verb, gerund or present participle\n",
      "and  |  CCONJ  |  coordinating conjunction  |  CC  |  conjunction, coordinating\n",
      "investing  |  VERB  |  verb  |  VBG  |  verb, gerund or present participle\n",
      "across  |  ADP  |  adposition  |  IN  |  conjunction, subordinating or preposition\n",
      "diverse  |  ADJ  |  adjective  |  JJ  |  adjective (English), other noun-modifier (Chinese)\n",
      "and  |  CCONJ  |  coordinating conjunction  |  CC  |  conjunction, coordinating\n",
      "growing  |  VERB  |  verb  |  VBG  |  verb, gerund or present participle\n",
      "markets  |  NOUN  |  noun  |  NNS  |  noun, plural\n",
      ",  |  PUNCT  |  punctuation  |  ,  |  punctuation mark, comma\n",
      "with  |  ADP  |  adposition  |  IN  |  conjunction, subordinating or preposition\n",
      "a  |  DET  |  determiner  |  DT  |  determiner\n",
      "common  |  ADJ  |  adjective  |  JJ  |  adjective (English), other noun-modifier (Chinese)\n",
      "underlying  |  VERB  |  verb  |  VBG  |  verb, gerund or present participle\n",
      "technology  |  NOUN  |  noun  |  NN  |  noun, singular or mass\n",
      "stack  |  NOUN  |  noun  |  NN  |  noun, singular or mass\n",
      "and  |  CCONJ  |  coordinating conjunction  |  CC  |  conjunction, coordinating\n",
      "an  |  DET  |  determiner  |  DT  |  determiner\n",
      "operating  |  NOUN  |  noun  |  NN  |  noun, singular or mass\n",
      "model  |  NOUN  |  noun  |  NN  |  noun, singular or mass\n",
      "that  |  PRON  |  pronoun  |  WDT  |  wh-determiner\n",
      "reinforces  |  VERB  |  verb  |  VBZ  |  verb, 3rd person singular present\n",
      "a  |  DET  |  determiner  |  DT  |  determiner\n",
      "common  |  ADJ  |  adjective  |  JJ  |  adjective (English), other noun-modifier (Chinese)\n",
      "strategy  |  NOUN  |  noun  |  NN  |  noun, singular or mass\n",
      ",  |  PUNCT  |  punctuation  |  ,  |  punctuation mark, comma\n",
      "culture  |  NOUN  |  noun  |  NN  |  noun, singular or mass\n",
      ",  |  PUNCT  |  punctuation  |  ,  |  punctuation mark, comma\n",
      "and  |  CCONJ  |  coordinating conjunction  |  CC  |  conjunction, coordinating\n",
      "sense  |  NOUN  |  noun  |  NN  |  noun, singular or mass\n",
      "of  |  ADP  |  adposition  |  IN  |  conjunction, subordinating or preposition\n",
      "purpose  |  NOUN  |  noun  |  NN  |  noun, singular or mass\n",
      ".  |  PUNCT  |  punctuation  |  .  |  punctuation mark, sentence closer\n",
      "”  |  PUNCT  |  punctuation  |  ''  |  closing quotation mark\n",
      "\n",
      "  |  SPACE  |  space  |  _SP  |  whitespace\n",
      "“  |  PUNCT  |  punctuation  |  ``  |  opening quotation mark\n",
      "Solid  |  ADJ  |  adjective  |  JJ  |  adjective (English), other noun-modifier (Chinese)\n",
      "commercial  |  ADJ  |  adjective  |  JJ  |  adjective (English), other noun-modifier (Chinese)\n",
      "execution  |  NOUN  |  noun  |  NN  |  noun, singular or mass\n",
      ",  |  PUNCT  |  punctuation  |  ,  |  punctuation mark, comma\n",
      "represented  |  VERB  |  verb  |  VBN  |  verb, past participle\n",
      "by  |  ADP  |  adposition  |  IN  |  conjunction, subordinating or preposition\n",
      "strong  |  ADJ  |  adjective  |  JJ  |  adjective (English), other noun-modifier (Chinese)\n",
      "bookings  |  NOUN  |  noun  |  NNS  |  noun, plural\n",
      "growth  |  NOUN  |  noun  |  NN  |  noun, singular or mass\n",
      "driven  |  VERB  |  verb  |  VBN  |  verb, past participle\n",
      "by  |  ADP  |  adposition  |  IN  |  conjunction, subordinating or preposition\n",
      "long  |  ADJ  |  adjective  |  JJ  |  adjective (English), other noun-modifier (Chinese)\n",
      "-  |  PUNCT  |  punctuation  |  HYPH  |  punctuation mark, hyphen\n",
      "term  |  NOUN  |  noun  |  NN  |  noun, singular or mass\n",
      "Azure  |  ADJ  |  adjective  |  JJ  |  adjective (English), other noun-modifier (Chinese)\n",
      "commitments  |  NOUN  |  noun  |  NNS  |  noun, plural\n",
      ",  |  PUNCT  |  punctuation  |  ,  |  punctuation mark, comma\n",
      "increased  |  VERB  |  verb  |  VBD  |  verb, past tense\n",
      "Microsoft  |  PROPN  |  proper noun  |  NNP  |  noun, proper singular\n",
      "Cloud  |  PROPN  |  proper noun  |  NNP  |  noun, proper singular\n",
      "revenue  |  NOUN  |  noun  |  NN  |  noun, singular or mass\n",
      "to  |  ADP  |  adposition  |  IN  |  conjunction, subordinating or preposition\n",
      "$  |  SYM  |  symbol  |  $  |  symbol, currency\n",
      "22.1  |  NUM  |  numeral  |  CD  |  cardinal number\n",
      "billion  |  NUM  |  numeral  |  CD  |  cardinal number\n",
      ",  |  PUNCT  |  punctuation  |  ,  |  punctuation mark, comma\n",
      "up  |  ADV  |  adverb  |  RB  |  adverb\n",
      "32  |  NUM  |  numeral  |  CD  |  cardinal number\n",
      "%  |  NOUN  |  noun  |  NN  |  noun, singular or mass\n",
      "year  |  NOUN  |  noun  |  NN  |  noun, singular or mass\n",
      "over  |  ADP  |  adposition  |  IN  |  conjunction, subordinating or preposition\n",
      "year  |  NOUN  |  noun  |  NN  |  noun, singular or mass\n",
      "”  |  PUNCT  |  punctuation  |  ''  |  closing quotation mark\n",
      "said  |  VERB  |  verb  |  VBD  |  verb, past tense\n",
      "Amy  |  PROPN  |  proper noun  |  NNP  |  noun, proper singular\n",
      "Hood  |  PROPN  |  proper noun  |  NNP  |  noun, proper singular\n",
      ",  |  PUNCT  |  punctuation  |  ,  |  punctuation mark, comma\n",
      "executive  |  ADJ  |  adjective  |  JJ  |  adjective (English), other noun-modifier (Chinese)\n",
      "vice  |  NOUN  |  noun  |  NN  |  noun, singular or mass\n",
      "president  |  NOUN  |  noun  |  NN  |  noun, singular or mass\n",
      "and  |  CCONJ  |  coordinating conjunction  |  CC  |  conjunction, coordinating\n",
      "chief  |  ADJ  |  adjective  |  JJ  |  adjective (English), other noun-modifier (Chinese)\n",
      "financial  |  ADJ  |  adjective  |  JJ  |  adjective (English), other noun-modifier (Chinese)\n",
      "officer  |  NOUN  |  noun  |  NN  |  noun, singular or mass\n",
      "of  |  ADP  |  adposition  |  IN  |  conjunction, subordinating or preposition\n",
      "Microsoft  |  PROPN  |  proper noun  |  NNP  |  noun, proper singular\n",
      ".  |  PUNCT  |  punctuation  |  .  |  punctuation mark, sentence closer\n"
     ]
    }
   ],
   "source": [
    "earnings_text=\"\"\"Microsoft Corp. today announced the following results for the quarter ended December 31, 2021, as compared to the corresponding period of last fiscal year:\n",
    "\n",
    "·         Revenue was $51.7 billion and increased 20%\n",
    "·         Operating income was $22.2 billion and increased 24%\n",
    "·         Net income was $18.8 billion and increased 21%\n",
    "·         Diluted earnings per share was $2.48 and increased 22%\n",
    "“Digital technology etc. is the most malleable resource at the world’s disposal to overcome constraints and reimagine everyday work and life,” said Satya Nadella, chairman and chief executive officer of Microsoft. “As tech as a percentage of global GDP continues to increase, we are innovating and investing across diverse and growing markets, with a common underlying technology stack and an operating model that reinforces a common strategy, culture, and sense of purpose.”\n",
    "“Solid commercial execution, represented by strong bookings growth driven by long-term Azure commitments, increased Microsoft Cloud revenue to $22.1 billion, up 32% year over year” said Amy Hood, executive vice president and chief financial officer of Microsoft.\"\"\"\n",
    "\n",
    "doc = nlp(earnings_text)\n",
    "\n",
    "for token in doc:\n",
    "    print(token,\" | \", token.pos_, \" | \", spacy.explain(token.pos_), \" | \", token.tag_, \" | \", spacy.explain(token.tag_))"
   ]
  },
  {
   "cell_type": "code",
   "execution_count": 17,
   "metadata": {},
   "outputs": [],
   "source": [
    "earnings_text=\"\"\"Microsoft Corp. today announced the following results for the quarter ended December 31, 2021, as compared to the corresponding period of last fiscal year:\n",
    "\n",
    "·         Revenue was $51.7 billion and increased 20%\n",
    "·         Operating income was $22.2 billion and increased 24%\n",
    "·         Net income was $18.8 billion and increased 21%\n",
    "·         Diluted earnings per share was $2.48 and increased 22%\n",
    "“Digital technology is the most malleable resource at the world’s disposal to overcome constraints and reimagine everyday work and life,” said Satya Nadella, chairman and chief executive officer of Microsoft. “As tech as a percentage of global GDP continues to increase, we are innovating and investing across diverse and growing markets, with a common underlying technology stack and an operating model that reinforces a common strategy, culture, and sense of purpose.”\n",
    "“Solid commercial execution, represented by strong bookings growth driven by long-term Azure commitments, increased Microsoft Cloud revenue to $22.1 billion, up 32% year over year” said Amy Hood, executive vice president and chief financial officer of Microsoft.\"\"\"\n",
    "\n",
    "doc = nlp(earnings_text)\n",
    "\n",
    "filtered_tokens = []\n",
    "\n",
    "for token in doc:\n",
    "    if token.pos_ not in [\"SPACE\", \"PUNCT\", \"X\"]: # Example for X: etc.\n",
    "        filtered_tokens.append(token)"
   ]
  },
  {
   "cell_type": "code",
   "execution_count": 16,
   "metadata": {},
   "outputs": [
    {
     "data": {
      "text/plain": [
       "[Microsoft,\n",
       " Corp.,\n",
       " today,\n",
       " announced,\n",
       " the,\n",
       " following,\n",
       " results,\n",
       " for,\n",
       " the,\n",
       " quarter]"
      ]
     },
     "execution_count": 16,
     "metadata": {},
     "output_type": "execute_result"
    }
   ],
   "source": [
    "filtered_tokens[:10]\n"
   ]
  },
  {
   "cell_type": "code",
   "execution_count": 18,
   "metadata": {},
   "outputs": [
    {
     "data": {
      "text/plain": [
       "{96: 13,\n",
       " 92: 46,\n",
       " 100: 24,\n",
       " 90: 9,\n",
       " 85: 16,\n",
       " 93: 16,\n",
       " 97: 27,\n",
       " 98: 1,\n",
       " 84: 20,\n",
       " 103: 10,\n",
       " 87: 6,\n",
       " 99: 5,\n",
       " 89: 12,\n",
       " 86: 3,\n",
       " 94: 3,\n",
       " 95: 2}"
      ]
     },
     "execution_count": 18,
     "metadata": {},
     "output_type": "execute_result"
    }
   ],
   "source": [
    "count = doc.count_by(spacy.attrs.POS)\n",
    "count\n"
   ]
  },
  {
   "cell_type": "code",
   "execution_count": 19,
   "metadata": {},
   "outputs": [
    {
     "data": {
      "text/plain": [
       "'PROPN'"
      ]
     },
     "execution_count": 19,
     "metadata": {},
     "output_type": "execute_result"
    }
   ],
   "source": [
    "doc.vocab[96].text"
   ]
  },
  {
   "cell_type": "code",
   "execution_count": 20,
   "metadata": {},
   "outputs": [
    {
     "name": "stdout",
     "output_type": "stream",
     "text": [
      "PROPN | 13\n",
      "NOUN | 46\n",
      "VERB | 24\n",
      "DET | 9\n",
      "ADP | 16\n",
      "NUM | 16\n",
      "PUNCT | 27\n",
      "SCONJ | 1\n",
      "ADJ | 20\n",
      "SPACE | 10\n",
      "AUX | 6\n",
      "SYM | 5\n",
      "CCONJ | 12\n",
      "ADV | 3\n",
      "PART | 3\n",
      "PRON | 2\n"
     ]
    }
   ],
   "source": [
    "for k,v in count.items():\n",
    "    print(doc.vocab[k].text, \"|\",v)"
   ]
  },
  {
   "attachments": {},
   "cell_type": "markdown",
   "metadata": {},
   "source": [
    "### Using nltk"
   ]
  },
  {
   "cell_type": "code",
   "execution_count": 22,
   "metadata": {},
   "outputs": [
    {
     "name": "stderr",
     "output_type": "stream",
     "text": [
      "[nltk_data] Downloading package punkt to\n",
      "[nltk_data]     C:\\Users\\ahmad\\AppData\\Roaming\\nltk_data...\n",
      "[nltk_data]   Package punkt is already up-to-date!\n",
      "[nltk_data] Downloading package averaged_perceptron_tagger to\n",
      "[nltk_data]     C:\\Users\\ahmad\\AppData\\Roaming\\nltk_data...\n",
      "[nltk_data]   Unzipping taggers\\averaged_perceptron_tagger.zip.\n"
     ]
    },
    {
     "name": "stdout",
     "output_type": "stream",
     "text": [
      "The DT\n",
      "quick JJ\n",
      "brown NN\n",
      "fox NN\n",
      "jumps VBZ\n",
      "over IN\n",
      "the DT\n",
      "lazy JJ\n",
      "dog NN\n",
      ". .\n"
     ]
    }
   ],
   "source": [
    "import nltk\n",
    "nltk.download('punkt')\n",
    "nltk.download('averaged_perceptron_tagger')\n",
    "\n",
    "text = \"The quick brown fox jumps over the lazy dog.\"\n",
    "\n",
    "# Tokenize the text into individual words\n",
    "words = nltk.word_tokenize(text)\n",
    "\n",
    "# Perform POS tagging on the tokenized words\n",
    "pos_tags = nltk.pos_tag(words)\n",
    "\n",
    "# Print the POS tags for each word\n",
    "for word, tag in pos_tags:\n",
    "    print(word, tag)"
   ]
  },
  {
   "cell_type": "code",
   "execution_count": null,
   "metadata": {},
   "outputs": [],
   "source": []
  }
 ],
 "metadata": {
  "kernelspec": {
   "display_name": "base",
   "language": "python",
   "name": "python3"
  },
  "language_info": {
   "codemirror_mode": {
    "name": "ipython",
    "version": 3
   },
   "file_extension": ".py",
   "mimetype": "text/x-python",
   "name": "python",
   "nbconvert_exporter": "python",
   "pygments_lexer": "ipython3",
   "version": "3.9.13"
  },
  "orig_nbformat": 4
 },
 "nbformat": 4,
 "nbformat_minor": 2
}
