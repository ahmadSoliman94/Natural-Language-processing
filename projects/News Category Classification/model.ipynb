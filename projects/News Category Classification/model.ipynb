{
 "cells": [
  {
   "attachments": {},
   "cell_type": "markdown",
   "metadata": {},
   "source": [
    "### News Category Classification:"
   ]
  },
  {
   "attachments": {},
   "cell_type": "markdown",
   "metadata": {},
   "source": [
    " We will use bag of n-grams and traing a machine learning model that can categorize any news into one of the following categories,\n",
    "\n",
    "1-BUSINESS\n",
    "\n",
    "2-SPORTS\n",
    "\n",
    "3-CRIME\n",
    "\n",
    "4-SCIENCE"
   ]
  },
  {
   "cell_type": "code",
   "execution_count": 45,
   "metadata": {},
   "outputs": [],
   "source": [
    "import spacy\n",
    "import pandas as pd\n",
    "import seaborn as sns\n",
    "from matplotlib import pyplot as plt\n",
    "\n",
    "from sklearn.model_selection import train_test_split\n",
    "from sklearn.naive_bayes import MultinomialNB\n",
    "from sklearn.pipeline import Pipeline\n",
    "from sklearn.metrics import classification_report, confusion_matrix\n",
    "from sklearn.feature_extraction.text import CountVectorizer"
   ]
  },
  {
   "attachments": {},
   "cell_type": "markdown",
   "metadata": {},
   "source": [
    "###  read the json file"
   ]
  },
  {
   "cell_type": "code",
   "execution_count": 6,
   "metadata": {},
   "outputs": [
    {
     "name": "stdout",
     "output_type": "stream",
     "text": [
      "(209527, 2)\n"
     ]
    },
    {
     "data": {
      "text/html": [
       "<div>\n",
       "<style scoped>\n",
       "    .dataframe tbody tr th:only-of-type {\n",
       "        vertical-align: middle;\n",
       "    }\n",
       "\n",
       "    .dataframe tbody tr th {\n",
       "        vertical-align: top;\n",
       "    }\n",
       "\n",
       "    .dataframe thead th {\n",
       "        text-align: right;\n",
       "    }\n",
       "</style>\n",
       "<table border=\"1\" class=\"dataframe\">\n",
       "  <thead>\n",
       "    <tr style=\"text-align: right;\">\n",
       "      <th></th>\n",
       "      <th>headline</th>\n",
       "      <th>category</th>\n",
       "    </tr>\n",
       "  </thead>\n",
       "  <tbody>\n",
       "    <tr>\n",
       "      <th>0</th>\n",
       "      <td>Over 4 Million Americans Roll Up Sleeves For O...</td>\n",
       "      <td>U.S. NEWS</td>\n",
       "    </tr>\n",
       "    <tr>\n",
       "      <th>1</th>\n",
       "      <td>American Airlines Flyer Charged, Banned For Li...</td>\n",
       "      <td>U.S. NEWS</td>\n",
       "    </tr>\n",
       "    <tr>\n",
       "      <th>2</th>\n",
       "      <td>23 Of The Funniest Tweets About Cats And Dogs ...</td>\n",
       "      <td>COMEDY</td>\n",
       "    </tr>\n",
       "    <tr>\n",
       "      <th>3</th>\n",
       "      <td>The Funniest Tweets From Parents This Week (Se...</td>\n",
       "      <td>PARENTING</td>\n",
       "    </tr>\n",
       "    <tr>\n",
       "      <th>4</th>\n",
       "      <td>Woman Who Called Cops On Black Bird-Watcher Lo...</td>\n",
       "      <td>U.S. NEWS</td>\n",
       "    </tr>\n",
       "  </tbody>\n",
       "</table>\n",
       "</div>"
      ],
      "text/plain": [
       "                                            headline   category\n",
       "0  Over 4 Million Americans Roll Up Sleeves For O...  U.S. NEWS\n",
       "1  American Airlines Flyer Charged, Banned For Li...  U.S. NEWS\n",
       "2  23 Of The Funniest Tweets About Cats And Dogs ...     COMEDY\n",
       "3  The Funniest Tweets From Parents This Week (Se...  PARENTING\n",
       "4  Woman Who Called Cops On Black Bird-Watcher Lo...  U.S. NEWS"
      ]
     },
     "execution_count": 6,
     "metadata": {},
     "output_type": "execute_result"
    }
   ],
   "source": [
    "df = pd.read_json('./dataset/News_Category_Dataset_v3.json', lines=True)[['headline', 'category']] \n",
    "print(df.shape) \n",
    "df.head()"
   ]
  },
  {
   "cell_type": "code",
   "execution_count": 7,
   "metadata": {},
   "outputs": [
    {
     "data": {
      "text/plain": [
       "POLITICS          35602\n",
       "WELLNESS          17945\n",
       "ENTERTAINMENT     17362\n",
       "TRAVEL             9900\n",
       "STYLE & BEAUTY     9814\n",
       "PARENTING          8791\n",
       "HEALTHY LIVING     6694\n",
       "QUEER VOICES       6347\n",
       "FOOD & DRINK       6340\n",
       "BUSINESS           5992\n",
       "COMEDY             5400\n",
       "SPORTS             5077\n",
       "BLACK VOICES       4583\n",
       "HOME & LIVING      4320\n",
       "PARENTS            3955\n",
       "THE WORLDPOST      3664\n",
       "WEDDINGS           3653\n",
       "WOMEN              3572\n",
       "CRIME              3562\n",
       "IMPACT             3484\n",
       "DIVORCE            3426\n",
       "WORLD NEWS         3299\n",
       "MEDIA              2944\n",
       "WEIRD NEWS         2777\n",
       "GREEN              2622\n",
       "WORLDPOST          2579\n",
       "RELIGION           2577\n",
       "STYLE              2254\n",
       "SCIENCE            2206\n",
       "TECH               2104\n",
       "TASTE              2096\n",
       "MONEY              1756\n",
       "ARTS               1509\n",
       "ENVIRONMENT        1444\n",
       "FIFTY              1401\n",
       "GOOD NEWS          1398\n",
       "U.S. NEWS          1377\n",
       "ARTS & CULTURE     1339\n",
       "COLLEGE            1144\n",
       "LATINO VOICES      1130\n",
       "CULTURE & ARTS     1074\n",
       "EDUCATION          1014\n",
       "Name: category, dtype: int64"
      ]
     },
     "execution_count": 7,
     "metadata": {},
     "output_type": "execute_result"
    }
   ],
   "source": [
    "df.category.value_counts() # to get the number of samples in each category."
   ]
  },
  {
   "cell_type": "code",
   "execution_count": 8,
   "metadata": {},
   "outputs": [
    {
     "data": {
      "text/html": [
       "<div>\n",
       "<style scoped>\n",
       "    .dataframe tbody tr th:only-of-type {\n",
       "        vertical-align: middle;\n",
       "    }\n",
       "\n",
       "    .dataframe tbody tr th {\n",
       "        vertical-align: top;\n",
       "    }\n",
       "\n",
       "    .dataframe thead th {\n",
       "        text-align: right;\n",
       "    }\n",
       "</style>\n",
       "<table border=\"1\" class=\"dataframe\">\n",
       "  <thead>\n",
       "    <tr style=\"text-align: right;\">\n",
       "      <th></th>\n",
       "      <th>headline</th>\n",
       "      <th>category</th>\n",
       "    </tr>\n",
       "  </thead>\n",
       "  <tbody>\n",
       "    <tr>\n",
       "      <th>2</th>\n",
       "      <td>23 Of The Funniest Tweets About Cats And Dogs ...</td>\n",
       "      <td>COMEDY</td>\n",
       "    </tr>\n",
       "    <tr>\n",
       "      <th>17</th>\n",
       "      <td>Maury Wills, Base-Stealing Shortstop For Dodge...</td>\n",
       "      <td>SPORTS</td>\n",
       "    </tr>\n",
       "    <tr>\n",
       "      <th>26</th>\n",
       "      <td>Las Vegas Aces Win First WNBA Title, Chelsea G...</td>\n",
       "      <td>SPORTS</td>\n",
       "    </tr>\n",
       "    <tr>\n",
       "      <th>61</th>\n",
       "      <td>Boston Marathon To Make Race More Inclusive Fo...</td>\n",
       "      <td>SPORTS</td>\n",
       "    </tr>\n",
       "    <tr>\n",
       "      <th>62</th>\n",
       "      <td>Anthony Varvaro, MLB Pitcher Turned Transit Co...</td>\n",
       "      <td>SPORTS</td>\n",
       "    </tr>\n",
       "  </tbody>\n",
       "</table>\n",
       "</div>"
      ],
      "text/plain": [
       "                                             headline category\n",
       "2   23 Of The Funniest Tweets About Cats And Dogs ...   COMEDY\n",
       "17  Maury Wills, Base-Stealing Shortstop For Dodge...   SPORTS\n",
       "26  Las Vegas Aces Win First WNBA Title, Chelsea G...   SPORTS\n",
       "61  Boston Marathon To Make Race More Inclusive Fo...   SPORTS\n",
       "62  Anthony Varvaro, MLB Pitcher Turned Transit Co...   SPORTS"
      ]
     },
     "execution_count": 8,
     "metadata": {},
     "output_type": "execute_result"
    }
   ],
   "source": [
    "# Select only the categories that we want to train our model on.\n",
    "desired_categories = ['CRIME', 'COMEDY', 'EDUCATION', 'SPORTS']\n",
    "df_new = df[df['category'].isin(desired_categories)]\n",
    "df_new.head()"
   ]
  },
  {
   "cell_type": "code",
   "execution_count": 9,
   "metadata": {},
   "outputs": [
    {
     "name": "stdout",
     "output_type": "stream",
     "text": [
      "(15053,)\n",
      "(15053,)\n"
     ]
    }
   ],
   "source": [
    "# print the shape of the dataframe.\n",
    "print(df_new.headline.shape)\n",
    "print(df_new.category.shape)"
   ]
  },
  {
   "cell_type": "code",
   "execution_count": 10,
   "metadata": {},
   "outputs": [
    {
     "data": {
      "text/plain": [
       "COMEDY       5400\n",
       "SPORTS       5077\n",
       "CRIME        3562\n",
       "EDUCATION    1014\n",
       "Name: category, dtype: int64"
      ]
     },
     "execution_count": 10,
     "metadata": {},
     "output_type": "execute_result"
    }
   ],
   "source": [
    "df_new.category.value_counts()\n"
   ]
  },
  {
   "attachments": {},
   "cell_type": "markdown",
   "metadata": {},
   "source": [
    "### to improve the performance of our model, we will select the same number of samples from each category."
   ]
  },
  {
   "cell_type": "code",
   "execution_count": 11,
   "metadata": {},
   "outputs": [],
   "source": [
    "min_samples = 1014 # minimum number of samples in a category.\n",
    "\n",
    "df_business = df_new[df_new.category==\"COMEDY\"].sample(min_samples, random_state=0)\n",
    "df_sports = df_new[df_new.category==\"SPORTS\"].sample(min_samples, random_state=0)\n",
    "df_crime = df_new[df_new.category==\"CRIME\"].sample(min_samples, random_state=0)\n",
    "df_science = df_new[df_new.category==\"EDUCATION\"].sample(min_samples, random_state=0)"
   ]
  },
  {
   "cell_type": "code",
   "execution_count": 12,
   "metadata": {},
   "outputs": [
    {
     "data": {
      "text/plain": [
       "COMEDY       1014\n",
       "SPORTS       1014\n",
       "CRIME        1014\n",
       "EDUCATION    1014\n",
       "Name: category, dtype: int64"
      ]
     },
     "execution_count": 12,
     "metadata": {},
     "output_type": "execute_result"
    }
   ],
   "source": [
    "# concatenate the dataframes\n",
    "df_balanced = pd.concat([df_business,df_sports,df_crime,df_science],axis=0)\n",
    "df_balanced.category.value_counts()"
   ]
  },
  {
   "cell_type": "code",
   "execution_count": 13,
   "metadata": {},
   "outputs": [],
   "source": [
    "# to convert the category names to numbers.\n",
    "df_balanced['category_num'] = df_balanced['category'].map({\n",
    "    'COMEDY': 0,\n",
    "    'SPORTS': 1, \n",
    "    'CRIME': 2, \n",
    "    'EDUCATION': 3\n",
    "})"
   ]
  },
  {
   "cell_type": "code",
   "execution_count": 15,
   "metadata": {},
   "outputs": [
    {
     "data": {
      "text/html": [
       "<div>\n",
       "<style scoped>\n",
       "    .dataframe tbody tr th:only-of-type {\n",
       "        vertical-align: middle;\n",
       "    }\n",
       "\n",
       "    .dataframe tbody tr th {\n",
       "        vertical-align: top;\n",
       "    }\n",
       "\n",
       "    .dataframe thead th {\n",
       "        text-align: right;\n",
       "    }\n",
       "</style>\n",
       "<table border=\"1\" class=\"dataframe\">\n",
       "  <thead>\n",
       "    <tr style=\"text-align: right;\">\n",
       "      <th></th>\n",
       "      <th>headline</th>\n",
       "      <th>category</th>\n",
       "      <th>category_num</th>\n",
       "    </tr>\n",
       "  </thead>\n",
       "  <tbody>\n",
       "    <tr>\n",
       "      <th>121704</th>\n",
       "      <td>Exercising Restraint in Schools</td>\n",
       "      <td>EDUCATION</td>\n",
       "      <td>3</td>\n",
       "    </tr>\n",
       "    <tr>\n",
       "      <th>34394</th>\n",
       "      <td>Just Put My Degree In The Mail! -- Notre Dame ...</td>\n",
       "      <td>EDUCATION</td>\n",
       "      <td>3</td>\n",
       "    </tr>\n",
       "    <tr>\n",
       "      <th>106946</th>\n",
       "      <td>Roald Dahl, The BFG and the Measles</td>\n",
       "      <td>EDUCATION</td>\n",
       "      <td>3</td>\n",
       "    </tr>\n",
       "    <tr>\n",
       "      <th>102150</th>\n",
       "      <td>4 Ways the House Republican Budget Hurts Students</td>\n",
       "      <td>EDUCATION</td>\n",
       "      <td>3</td>\n",
       "    </tr>\n",
       "    <tr>\n",
       "      <th>110801</th>\n",
       "      <td>Free Speech on Campus</td>\n",
       "      <td>EDUCATION</td>\n",
       "      <td>3</td>\n",
       "    </tr>\n",
       "  </tbody>\n",
       "</table>\n",
       "</div>"
      ],
      "text/plain": [
       "                                                 headline   category  \\\n",
       "121704                    Exercising Restraint in Schools  EDUCATION   \n",
       "34394   Just Put My Degree In The Mail! -- Notre Dame ...  EDUCATION   \n",
       "106946                Roald Dahl, The BFG and the Measles  EDUCATION   \n",
       "102150  4 Ways the House Republican Budget Hurts Students  EDUCATION   \n",
       "110801                              Free Speech on Campus  EDUCATION   \n",
       "\n",
       "        category_num  \n",
       "121704             3  \n",
       "34394              3  \n",
       "106946             3  \n",
       "102150             3  \n",
       "110801             3  "
      ]
     },
     "execution_count": 15,
     "metadata": {},
     "output_type": "execute_result"
    }
   ],
   "source": [
    "df_balanced.tail()"
   ]
  },
  {
   "attachments": {},
   "cell_type": "markdown",
   "metadata": {},
   "source": [
    "### Build a model with original text"
   ]
  },
  {
   "cell_type": "code",
   "execution_count": 23,
   "metadata": {},
   "outputs": [],
   "source": [
    "# split the data into train and test sets.\n",
    "X_train, X_test, y_train, y_test = train_test_split(\n",
    "    df_balanced.headline, # features\n",
    "    df_balanced.category_num,  # target variable\n",
    "    test_size=0.2, # 20% samples will go to test dataset\n",
    "    random_state=0,\n",
    "    stratify=df_balanced.category_num # to maintain the same distribution of categories in train and test sets.\n",
    ")"
   ]
  },
  {
   "cell_type": "code",
   "execution_count": 24,
   "metadata": {},
   "outputs": [
    {
     "name": "stdout",
     "output_type": "stream",
     "text": [
      "shape of X_train:  (3244,)\n",
      "shape of X_test:  (812,)\n",
      "shape of y_train:  (3244,)\n",
      "shape of y_test:  (812,)\n"
     ]
    }
   ],
   "source": [
    "print(f\"shape of X_train:  {X_train.shape}\", f\"shape of X_test:  {X_test.shape}\", f\"shape of y_train:  {y_train.shape}\", f\"shape of y_test:  {y_test.shape}\", sep='\\n')"
   ]
  },
  {
   "cell_type": "code",
   "execution_count": 25,
   "metadata": {},
   "outputs": [
    {
     "data": {
      "text/plain": [
       "2    811\n",
       "0    811\n",
       "3    811\n",
       "1    811\n",
       "Name: category_num, dtype: int64"
      ]
     },
     "execution_count": 25,
     "metadata": {},
     "output_type": "execute_result"
    }
   ],
   "source": [
    "y_train.value_counts()"
   ]
  },
  {
   "attachments": {},
   "cell_type": "markdown",
   "metadata": {},
   "source": [
    "### Attempt 1 : Use 1-gram which is nothing but a Bag Of Words (BOW) model"
   ]
  },
  {
   "cell_type": "code",
   "execution_count": 26,
   "metadata": {},
   "outputs": [
    {
     "name": "stdout",
     "output_type": "stream",
     "text": [
      "              precision    recall  f1-score   support\n",
      "\n",
      "           0       0.85      0.81      0.83       203\n",
      "           1       0.88      0.81      0.84       203\n",
      "           2       0.89      0.90      0.90       203\n",
      "           3       0.82      0.92      0.87       203\n",
      "\n",
      "    accuracy                           0.86       812\n",
      "   macro avg       0.86      0.86      0.86       812\n",
      "weighted avg       0.86      0.86      0.86       812\n",
      "\n"
     ]
    }
   ],
   "source": [
    "# 1. create a pipeline object.\n",
    "clf = Pipeline([\n",
    "     ('vectorizer_bow', CountVectorizer(ngram_range = (1, 1))), #using the ngram_range parameter \n",
    "     ('Multi NB', MultinomialNB())         \n",
    "])\n",
    "\n",
    "# 2. fit the pipeline object to the training data.\n",
    "clf.fit(X_train, y_train)\n",
    "\n",
    "# 3. predict the test data.\n",
    "y_pred = clf.predict(X_test)\n",
    "\n",
    "# 4. evaluate the model.\n",
    "print(classification_report(y_test, y_pred))"
   ]
  },
  {
   "cell_type": "code",
   "execution_count": 27,
   "metadata": {},
   "outputs": [
    {
     "data": {
      "text/plain": [
       "93774     Driver In Crash That Killed Four Could Face Mo...\n",
       "184088    NFL Week 8 Blitz: Ryan Tannehill's Hot Start; ...\n",
       "35513     The Special Education Leader Who Taught Me Wha...\n",
       "69171     NBA Reporter Who Asked Draymond Green Question...\n",
       "120717                                 Inside The NFL's FBI\n",
       "19149                Data, Numbers, Education And Audiences\n",
       "79111                    Legendary NBA Ref To Call it Quits\n",
       "11255     Topless Protester Arrested Outside Bill Cosby ...\n",
       "Name: headline, dtype: object"
      ]
     },
     "execution_count": 27,
     "metadata": {},
     "output_type": "execute_result"
    }
   ],
   "source": [
    "X_test[:8] # to get the first 8 samples from the test set."
   ]
  },
  {
   "cell_type": "code",
   "execution_count": 29,
   "metadata": {},
   "outputs": [
    {
     "data": {
      "text/plain": [
       "array([2, 1, 3, 1, 1, 3, 1, 2], dtype=int64)"
      ]
     },
     "execution_count": 29,
     "metadata": {},
     "output_type": "execute_result"
    }
   ],
   "source": [
    "y_pred[:8] # to get the first 8 predictions.\n",
    "# target = {0: 'COMEDY', 1: 'SPORTS', 2: 'CRIME', 3: 'EDUCATION'}"
   ]
  },
  {
   "attachments": {},
   "cell_type": "markdown",
   "metadata": {},
   "source": [
    "### Attempt 2 : Use 1-gram to trigrams"
   ]
  },
  {
   "cell_type": "code",
   "execution_count": 32,
   "metadata": {},
   "outputs": [
    {
     "name": "stdout",
     "output_type": "stream",
     "text": [
      "              precision    recall  f1-score   support\n",
      "\n",
      "           0       0.87      0.83      0.85       203\n",
      "           1       0.88      0.81      0.85       203\n",
      "           2       0.89      0.89      0.89       203\n",
      "           3       0.81      0.91      0.86       203\n",
      "\n",
      "    accuracy                           0.86       812\n",
      "   macro avg       0.86      0.86      0.86       812\n",
      "weighted avg       0.86      0.86      0.86       812\n",
      "\n"
     ]
    }
   ],
   "source": [
    "# 1. create a pipeline object.\n",
    "clf = Pipeline([\n",
    "    ('vectorizer_1_3_grams', CountVectorizer(ngram_range = (1, 3))), # using the ngram_range parameter\n",
    "    ('Multi NB', MultinomialNB()) # using the Multinomial Naive Bayes classifier\n",
    "])\n",
    "\n",
    "# 2. fit the pipeline object to the training data.\n",
    "clf.fit(X_train, y_train)\n",
    "\n",
    "# 3. predict the test data.\n",
    "y_pred = clf.predict(X_test)\n",
    "\n",
    "# 4. evaluate the model.\n",
    "print(classification_report(y_test, y_pred))"
   ]
  },
  {
   "attachments": {},
   "cell_type": "markdown",
   "metadata": {},
   "source": [
    "### create preproccesing function"
   ]
  },
  {
   "cell_type": "code",
   "execution_count": 35,
   "metadata": {},
   "outputs": [],
   "source": [
    "# load english language model and create nlp object from it\n",
    "nlp = spacy.load(\"en_core_web_sm\") \n",
    "\n",
    "def preprocess(text):\n",
    "    # remove stop words and lemmatize the text\n",
    "    doc = nlp(text)\n",
    "    filtered_tokens = []\n",
    "    for token in doc:\n",
    "        if token.is_stop or token.is_punct:\n",
    "            continue\n",
    "        filtered_tokens.append(token.lemma_)\n",
    "    \n",
    "    return \" \".join(filtered_tokens) "
   ]
  },
  {
   "attachments": {},
   "cell_type": "markdown",
   "metadata": {},
   "source": [
    "### Use text pre-processing to remove stop words, punctuations and apply lemmatization"
   ]
  },
  {
   "cell_type": "code",
   "execution_count": 36,
   "metadata": {},
   "outputs": [],
   "source": [
    "df_balanced['preprocessed_txt'] = df_balanced['headline'].apply(preprocess) # apply the preprocess function to the headline column"
   ]
  },
  {
   "cell_type": "code",
   "execution_count": 37,
   "metadata": {},
   "outputs": [
    {
     "data": {
      "text/html": [
       "<div>\n",
       "<style scoped>\n",
       "    .dataframe tbody tr th:only-of-type {\n",
       "        vertical-align: middle;\n",
       "    }\n",
       "\n",
       "    .dataframe tbody tr th {\n",
       "        vertical-align: top;\n",
       "    }\n",
       "\n",
       "    .dataframe thead th {\n",
       "        text-align: right;\n",
       "    }\n",
       "</style>\n",
       "<table border=\"1\" class=\"dataframe\">\n",
       "  <thead>\n",
       "    <tr style=\"text-align: right;\">\n",
       "      <th></th>\n",
       "      <th>headline</th>\n",
       "      <th>category</th>\n",
       "      <th>category_num</th>\n",
       "      <th>preprocessed_txt</th>\n",
       "    </tr>\n",
       "  </thead>\n",
       "  <tbody>\n",
       "    <tr>\n",
       "      <th>58984</th>\n",
       "      <td>CrossFit With Jesus Will Give You The Body Of ...</td>\n",
       "      <td>COMEDY</td>\n",
       "      <td>0</td>\n",
       "      <td>CrossFit Jesus body angel</td>\n",
       "    </tr>\n",
       "    <tr>\n",
       "      <th>43277</th>\n",
       "      <td>Melissa McCarthy Goes Ballistic On 'SNL' To Sl...</td>\n",
       "      <td>COMEDY</td>\n",
       "      <td>0</td>\n",
       "      <td>Melissa McCarthy go Ballistic SNL slay Sean Sp...</td>\n",
       "    </tr>\n",
       "    <tr>\n",
       "      <th>84246</th>\n",
       "      <td>eHarmingMe.com Is The Dating Site That Thinks ...</td>\n",
       "      <td>COMEDY</td>\n",
       "      <td>0</td>\n",
       "      <td>eHarmingMe.com Dating Site think toxicity Sexy</td>\n",
       "    </tr>\n",
       "    <tr>\n",
       "      <th>7429</th>\n",
       "      <td>Trevor Noah Works Trump's 'Schlong' Into His T...</td>\n",
       "      <td>COMEDY</td>\n",
       "      <td>0</td>\n",
       "      <td>Trevor Noah Works Trump Schlong Takedown Shutdown</td>\n",
       "    </tr>\n",
       "    <tr>\n",
       "      <th>106133</th>\n",
       "      <td>Meet The 6 Coworkers Who Make Your Job A Livin...</td>\n",
       "      <td>COMEDY</td>\n",
       "      <td>0</td>\n",
       "      <td>meet 6 Coworkers Job Living Hell</td>\n",
       "    </tr>\n",
       "  </tbody>\n",
       "</table>\n",
       "</div>"
      ],
      "text/plain": [
       "                                                 headline category  \\\n",
       "58984   CrossFit With Jesus Will Give You The Body Of ...   COMEDY   \n",
       "43277   Melissa McCarthy Goes Ballistic On 'SNL' To Sl...   COMEDY   \n",
       "84246   eHarmingMe.com Is The Dating Site That Thinks ...   COMEDY   \n",
       "7429    Trevor Noah Works Trump's 'Schlong' Into His T...   COMEDY   \n",
       "106133  Meet The 6 Coworkers Who Make Your Job A Livin...   COMEDY   \n",
       "\n",
       "        category_num                                   preprocessed_txt  \n",
       "58984              0                          CrossFit Jesus body angel  \n",
       "43277              0  Melissa McCarthy go Ballistic SNL slay Sean Sp...  \n",
       "84246              0     eHarmingMe.com Dating Site think toxicity Sexy  \n",
       "7429               0  Trevor Noah Works Trump Schlong Takedown Shutdown  \n",
       "106133             0                   meet 6 Coworkers Job Living Hell  "
      ]
     },
     "execution_count": 37,
     "metadata": {},
     "output_type": "execute_result"
    }
   ],
   "source": [
    "df_balanced.head() \n"
   ]
  },
  {
   "cell_type": "code",
   "execution_count": 38,
   "metadata": {},
   "outputs": [],
   "source": [
    "# Build a model with pre processed text\n",
    "X_train, X_test, y_train, y_test = train_test_split(\n",
    "    df_balanced.preprocessed_txt, \n",
    "    df_balanced.category_num, \n",
    "    test_size=0.2, # 20% samples will go to test dataset\n",
    "    random_state=2023,\n",
    "    stratify=df_balanced.category_num\n",
    ")"
   ]
  },
  {
   "cell_type": "code",
   "execution_count": 39,
   "metadata": {},
   "outputs": [
    {
     "name": "stdout",
     "output_type": "stream",
     "text": [
      "shape of X_train:  (3244,)\n",
      "shape of X_test:  (812,)\n",
      "shape of y_train:  (3244,)\n",
      "shape of y_test:  (812,)\n"
     ]
    }
   ],
   "source": [
    "print(f\"shape of X_train:  {X_train.shape}\", f\"shape of X_test:  {X_test.shape}\", f\"shape of y_train:  {y_train.shape}\", f\"shape of y_test:  {y_test.shape}\", sep='\\n')"
   ]
  },
  {
   "cell_type": "code",
   "execution_count": 40,
   "metadata": {},
   "outputs": [
    {
     "name": "stdout",
     "output_type": "stream",
     "text": [
      "              precision    recall  f1-score   support\n",
      "\n",
      "           0       0.87      0.76      0.81       203\n",
      "           1       0.80      0.85      0.82       203\n",
      "           2       0.83      0.90      0.86       203\n",
      "           3       0.87      0.86      0.86       203\n",
      "\n",
      "    accuracy                           0.84       812\n",
      "   macro avg       0.84      0.84      0.84       812\n",
      "weighted avg       0.84      0.84      0.84       812\n",
      "\n"
     ]
    }
   ],
   "source": [
    "#1. create a pipeline object\n",
    "clf = Pipeline([\n",
    "    ('vectorizer_bow', CountVectorizer(ngram_range = (1, 2))),        #using the ngram_range parameter \n",
    "    ('Multi NB', MultinomialNB())\n",
    "])\n",
    "\n",
    "#2. fit with X_train and y_train\n",
    "clf.fit(X_train, y_train)\n",
    "\n",
    "\n",
    "#3. get the predictions for X_test and store it in y_pred\n",
    "y_pred = clf.predict(X_test)\n",
    "\n",
    "\n",
    "#4. print the classfication report\n",
    "print(classification_report(y_test, y_pred))"
   ]
  },
  {
   "attachments": {},
   "cell_type": "markdown",
   "metadata": {},
   "source": [
    "### to plot confusion matrix\n"
   ]
  },
  {
   "cell_type": "code",
   "execution_count": 43,
   "metadata": {},
   "outputs": [
    {
     "data": {
      "text/plain": [
       "array([[155,  24,  13,  11],\n",
       "       [  8, 172,  17,   6],\n",
       "       [  3,   9, 182,   9],\n",
       "       [ 12,   9,   8, 174]], dtype=int64)"
      ]
     },
     "execution_count": 43,
     "metadata": {},
     "output_type": "execute_result"
    }
   ],
   "source": [
    "cm = confusion_matrix(y_test, y_pred)\n",
    "cm"
   ]
  },
  {
   "cell_type": "code",
   "execution_count": 51,
   "metadata": {},
   "outputs": [
    {
     "data": {
      "text/plain": [
       "Text(95.72222222222221, 0.5, 'Actual')"
      ]
     },
     "execution_count": 51,
     "metadata": {},
     "output_type": "execute_result"
    },
    {
     "data": {
      "image/png": "[encoded data removed]",
      "text/plain": [
       "<Figure size 1000x700 with 2 Axes>"
      ]
     },
     "metadata": {},
     "output_type": "display_data"
    }
   ],
   "source": [
    "plt.figure(figsize = (10,7))\n",
    "sns.heatmap(cm, annot=True, fmt='d',xticklabels=df_balanced.category.unique(), yticklabels=df_balanced.category.unique()) # xticklabels and yticklabels are used to label the axes. , .unique() is used to get the unique values in the category column.\n",
    "plt.xlabel('Predicted')\n",
    "plt.ylabel('Actual')"
   ]
  },
  {
   "cell_type": "code",
   "execution_count": null,
   "metadata": {},
   "outputs": [],
   "source": []
  }
 ],
 "metadata": {
  "kernelspec": {
   "display_name": "Python 3",
   "language": "python",
   "name": "python3"
  },
  "language_info": {
   "codemirror_mode": {
    "name": "ipython",
    "version": 3
   },
   "file_extension": ".py",
   "mimetype": "text/x-python",
   "name": "python",
   "nbconvert_exporter": "python",
   "pygments_lexer": "ipython3",
   "version": "3.10.11"
  },
  "orig_nbformat": 4
 },
 "nbformat": 4,
 "nbformat_minor": 2
}
